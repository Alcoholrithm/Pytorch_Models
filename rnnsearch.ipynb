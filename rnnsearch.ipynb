{
 "cells": [
  {
   "cell_type": "code",
   "execution_count": 3,
   "metadata": {},
   "outputs": [],
   "source": [
    "import torch\n",
    "import torch.nn as nn\n",
    "import torch.optim as optim\n",
    "import torch.nn.functional as F\n",
    "\n",
    "from torchtext.legacy.data import Field\n",
    "from torchtext.legacy.data import TabularDataset\n",
    "\"\"\"\n",
    "from konlpy.tag import Hannanum\n",
    "import pandas as pd\n",
    "\n",
    "from nltk.tokenize import TreebankWordTokenizer\n",
    "import nltk\n",
    "\"\"\"\n",
    "from torchtext.legacy.data import TabularDataset"
   ]
  },
  {
   "cell_type": "code",
   "execution_count": null,
   "metadata": {},
   "outputs": [],
   "source": [
    "class Encoder(nn.Module):\n",
    "    def __init__(self, n_tokens, n_inputs, n_hiddens, padding_idx):\n",
    "        super().__init__()\n",
    "        self.n_hiddens = n_hiddens\n",
    "        self.embedding = nn.Embedding(n_tokens, n_inputs, padding_idx = padding_idx)\n",
    "        self.bidirectional_gru = nn.GRU(n_inputs, n_hiddens, bidirectional=True)\n",
    "\n",
    "    def init_hidden(self, batch_size):\n",
    "        weight = next(self.parameters())\n",
    "        h0 = weight.new_zeros(2, batch_size, self.n_hiddens)\n",
    "        return h0\n",
    "\n",
    "    def forward(self, x):\n",
    "        input_length = torch.LongTensor([torch.max(x[i, :].data.nonzero()) + 1 for i in range(x.size(0))])\n",
    "        hidden = self.init_hidden(x.size(0))\n",
    "        x = self.embedding(x)\n",
    "        x = nn.utils.rnn.pack_padded_sequence(x, input_length, batch_first = self.batch_first)\n",
    "        output, hidden = self.bidirectional_gru(x, hidden)\n",
    "        output = nn.utils.rnn.pad_packed_sequence(output, batch_first = self.batch_first)\n",
    "        hidden = torch.cat([hidden[0], hidden[1]], dim = -1)\n",
    "        return output, hidden\n",
    "\n"
   ]
  },
  {
   "cell_type": "code",
   "execution_count": 6,
   "metadata": {},
   "outputs": [],
   "source": [
    "class Alignment(nn.Module):\n",
    "    def __init__(self, n_hiddens):\n",
    "        self.n_hiddens = n_hiddens\n",
    "        self.v = nn.Parameter(nn.init.uniform_(torch.empty(n_hiddens))) #linear?\n",
    "        self.align = nn.Linear(self.n_hiddens * 3, self.n_hiddens)\n",
    "        \n",
    "    def forward(self, h , s):\n",
    "        e = torch.tanh(self.align(torch.cat([h, s], 2)))\n",
    "        e = e.transpose(1, 2)\n",
    "        v = self.v.repeat(e.size(0), 1).unsqueeze(1)\n",
    "\n",
    "        e = torch.bmm(v, e)\n",
    "        return e.squeeze(1)\n"
   ]
  },
  {
   "cell_type": "code",
   "execution_count": 7,
   "metadata": {},
   "outputs": [],
   "source": [
    "class Attention(nn.Module):\n",
    "    def __init__(self, n_hiddens):\n",
    "        super().__init__()\n",
    "        self.n_hidden = n_hiddens\n",
    "        self.align = Alignment(self.n_hiddens)\n",
    "    \n",
    "    def forward(self, h_, s):\n",
    "        time_step = s.size(0)\n",
    "        h = h_.repeat(time_step, 1, 1).transpose(0, 1)\n",
    "        s = s.transpose(0, 1)\n",
    "        energy = self.align(h, s)\n",
    "        return F.softmax(energy, dim=1).unsqueeze(1)\n"
   ]
  },
  {
   "cell_type": "code",
   "execution_count": 10,
   "metadata": {},
   "outputs": [],
   "source": [
    "class Decoder(nn.Module):\n",
    "    def __init__(self, n_outputs, n_embeddings, n_hiddens, n_maxout):\n",
    "        super().__init__()\n",
    "        self.n_hiddens = n_hiddens\n",
    "        self.embedding = nn.Embedding(n_outputs, n_embeddings)\n",
    "        self.attention_layer = Attention(self.n_hiddens)\n",
    "        self.gru = nn.GRU(n_embeddings + n_hiddens * 2, n_hiddens)\n",
    "\n",
    "        self.maxout = Maxout(n_hiddens * 3 + n_embeddings, n_maxout, 2)\n",
    "        self.out = nn.Linear(n_maxout, n_outputs)\n",
    "\n",
    "    def forward(self, input, h, s):\n",
    "        s = s.transpose(0, 1)\n",
    "        embedded = self.embedding(input)\n",
    "        attention = self.attention_layer(h[-1], s)\n",
    "        context = attention.bmm(s.transpose(0, 1)).transpose(0, 1)\n",
    "        input = torch.cat([embedded, context], 2)\n",
    "        out, hidden = self.gru(input, h)\n",
    "        maxout_input = torch.cat([h, embedded, context])\n",
    "        out = self.maxout(maxout_input).squeeze(0)\n",
    "        out = self.out(out)\n",
    "        out = F.log_softmax(out, dim=1)\n",
    "        return out, hidden"
   ]
  },
  {
   "cell_type": "code",
   "execution_count": 9,
   "metadata": {},
   "outputs": [],
   "source": [
    "class Maxout(nn.Module):\n",
    "\n",
    "    def __init__(self, d_in, d_out, pool_size):\n",
    "        super().__init__()\n",
    "        self.d_in, self.d_out, self.pool_size = d_in, d_out, pool_size\n",
    "        self.lin = nn.Linear(d_in, d_out * pool_size)\n",
    "\n",
    "\n",
    "    def forward(self, inputs):\n",
    "        shape = list(inputs.size())\n",
    "        shape[-1] = self.d_out\n",
    "        shape.append(self.pool_size)\n",
    "        max_dim = len(shape) - 1\n",
    "        out = self.lin(inputs)\n",
    "        m, i = out.view(*shape).max(max_dim)\n",
    "        return m\n",
    "        "
   ]
  },
  {
   "cell_type": "code",
   "execution_count": 8,
   "metadata": {},
   "outputs": [],
   "source": [
    "class RNNsearch(nn.Module):\n",
    "    def __init__(self, n_tokens, n_inputs, n_outputs, n_embeddings, n_hiddens, n_maxout, padding_idx, device):\n",
    "        super().__init__()\n",
    "        self.n_outputs = n_outputs\n",
    "        self.device = device\n",
    "\n",
    "        self.encoder = Encoder(n_tokens, n_inputs, n_hiddens, padding_idx)\n",
    "        self.decoder = Decoder(n_outputs, n_embeddings, n_hiddens, n_maxout)\n",
    "\n",
    "        \n",
    "    def forward(self, x, target):\n",
    "        \n",
    "        encoder_outputs, encoder_hidden = self.encoder(x)\n",
    "\n",
    "        input = target[:, 0]\n",
    "        outputs = torch.zeros(target.shape[0], target.shape[1], self.n_outputs).to(self.device)\n",
    "        for t in range(1, target.shape[1]):\n",
    "            output, hidden = self.decoder(input, encoder_hidden, encoder_outputs)\n",
    "            outputs[:, t] = output\n",
    "\n",
    "            input = output.argmax(1)\n",
    "    \n",
    "        return outputs\n",
    "\n",
    "\n",
    "\n",
    "\n",
    "        "
   ]
  },
  {
   "cell_type": "code",
   "execution_count": null,
   "metadata": {},
   "outputs": [],
   "source": [
    "encoder = Encoder(10,10, 10, 0)"
   ]
  }
 ],
 "metadata": {
  "interpreter": {
   "hash": "78f7fc97bf5f739df685398a6b375f5a3b22935caa8ea8f31ce823c485c184ce"
  },
  "kernelspec": {
   "display_name": "Python 3.7.11 64-bit ('py37': conda)",
   "language": "python",
   "name": "python3"
  },
  "language_info": {
   "codemirror_mode": {
    "name": "ipython",
    "version": 3
   },
   "file_extension": ".py",
   "mimetype": "text/x-python",
   "name": "python",
   "nbconvert_exporter": "python",
   "pygments_lexer": "ipython3",
   "version": "3.7.11"
  },
  "orig_nbformat": 4
 },
 "nbformat": 4,
 "nbformat_minor": 2
}
